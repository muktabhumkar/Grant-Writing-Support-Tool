{
  "nbformat": 4,
  "nbformat_minor": 0,
  "metadata": {
    "colab": {
      "provenance": [],
      "authorship_tag": "ABX9TyPZav3dzMAtU6kICM8MmWZL",
      "include_colab_link": true
    },
    "kernelspec": {
      "name": "python3",
      "display_name": "Python 3"
    },
    "language_info": {
      "name": "python"
    }
  },
  "cells": [
    {
      "cell_type": "markdown",
      "metadata": {
        "id": "view-in-github",
        "colab_type": "text"
      },
      "source": [
        "<a href=\"https://colab.research.google.com/github/muktabhumkar/Grant-Writing-Support-Tool/blob/main/error_detection.ipynb\" target=\"_parent\"><img src=\"https://colab.research.google.com/assets/colab-badge.svg\" alt=\"Open In Colab\"/></a>"
      ]
    },
    {
      "cell_type": "code",
      "source": [
        "import nltk\n",
        "nltk.download('punkt')"
      ],
      "metadata": {
        "colab": {
          "base_uri": "https://localhost:8080/"
        },
        "id": "CMTfdrM3F3zP",
        "outputId": "fb6186ae-b0b5-4ca7-f70c-6f2faaab059e"
      },
      "execution_count": 2,
      "outputs": [
        {
          "output_type": "stream",
          "name": "stderr",
          "text": [
            "[nltk_data] Downloading package punkt to /root/nltk_data...\n",
            "[nltk_data]   Unzipping tokenizers/punkt.zip.\n"
          ]
        },
        {
          "output_type": "execute_result",
          "data": {
            "text/plain": [
              "True"
            ]
          },
          "metadata": {},
          "execution_count": 2
        }
      ]
    },
    {
      "cell_type": "code",
      "source": [
        "import spacy\n",
        "import re\n",
        "from nltk.tokenize import sent_tokenize\n",
        "import nltk\n",
        "\n",
        "# Download the 'punkt_tab' resource (required for sentence tokenization)\n",
        "nltk.download('punkt_tab')\n",
        "\n",
        "\n",
        "# Load the spaCy model\n",
        "nlp = spacy.load(\"en_core_web_sm\")\n",
        "\n",
        "# Function to check for inconsistent language (e.g., synonyms used inconsistently)\n",
        "def check_inconsistent_language(text):\n",
        "    # Look for frequent changes in terms (e.g., 'grant' vs 'funding')\n",
        "    issues = []\n",
        "    terms = ['grant', 'funding', 'proposal', 'project']  # Example terms\n",
        "    term_usage = {term: 0 for term in terms}\n",
        "\n",
        "    # Tokenize the text and count occurrences of key terms\n",
        "    doc = nlp(text)\n",
        "    for token in doc:\n",
        "        if token.text.lower() in terms:\n",
        "            term_usage[token.text.lower()] += 1\n",
        "\n",
        "    # Check if any terms are overused or used inconsistently\n",
        "    for term, count in term_usage.items():\n",
        "        if count > 3:\n",
        "            issues.append(f\"Overused term detected: '{term}' appears {count} times.\")\n",
        "\n",
        "    if len(set(term_usage.values())) == 1 and any(v > 1 for v in term_usage.values()):\n",
        "        issues.append(\"Inconsistent use of related terms. Try to stick to one primary term.\")\n",
        "\n",
        "    return issues\n",
        "\n",
        "# Function to check for unclear objectives (simple heuristic: check for vague words)\n",
        "def check_unclear_objectives(text):\n",
        "    unclear_phrases = ['improve', 'better', 'increase', 'grow', 'enhance']  # Example vague words\n",
        "    issues = []\n",
        "    sentences = sent_tokenize(text) # This line previously raised the error\n",
        "\n",
        "    for sentence in sentences:\n",
        "        if any(phrase in sentence.lower() for phrase in unclear_phrases):\n",
        "            issues.append(f\"Unclear objective detected: '{sentence}'\")\n",
        "\n",
        "    return issues\n",
        "\n",
        "# Function to check for missing information (e.g., missing sections like budget or timeline)\n",
        "def check_missing_information(text):\n",
        "    missing_sections = ['budget', 'timeline', 'goals', 'objectives', 'impact']\n",
        "    issues = []\n",
        "\n",
        "    for section in missing_sections:\n",
        "        if section not in text.lower():\n",
        "            issues.append(f\"Missing section: '{section}' is not mentioned in the proposal.\")\n",
        "\n",
        "    return issues\n",
        "\n",
        "# Main function to check the entire proposal for errors\n",
        "def detect_errors_in_grant_proposal(text):\n",
        "    errors = []\n",
        "\n",
        "    # Check for inconsistent language\n",
        "    errors.extend(check_inconsistent_language(text))\n",
        "\n",
        "    # Check for unclear objectives\n",
        "    errors.extend(check_unclear_objectives(text))\n",
        "\n",
        "    # Check for missing information\n",
        "    errors.extend(check_missing_information(text))\n",
        "\n",
        "    if not errors:\n",
        "        errors.append(\"No major issues detected.\")\n",
        "\n",
        "    return errors\n",
        "\n",
        "# Example usage\n",
        "if __name__ == \"__main__\":\n",
        "    # Sample grant proposal text\n",
        "    proposal_text = \"\"\"Our goal is to improve the community through this funding.\n",
        "    We will enhance the local environment by planting trees andincreasing renewable energy use.\n",
        "    The project timeline will be provided. However, the budget section is still under planning\"\"\"\n",
        "\n",
        "  # Detect errors in the proposal\n",
        "    errors = detect_errors_in_grant_proposal(proposal_text)\n",
        "\n",
        "    # Print detected errors\n",
        "    for error in errors:\n",
        "        print(error)"
      ],
      "metadata": {
        "colab": {
          "base_uri": "https://localhost:8080/"
        },
        "id": "wE4X_YCaIFXl",
        "outputId": "4826679b-2a35-458f-f5bd-825dbeb004db"
      },
      "execution_count": 10,
      "outputs": [
        {
          "output_type": "stream",
          "name": "stderr",
          "text": [
            "[nltk_data] Downloading package punkt_tab to /root/nltk_data...\n",
            "[nltk_data]   Package punkt_tab is already up-to-date!\n"
          ]
        },
        {
          "output_type": "stream",
          "name": "stdout",
          "text": [
            "Unclear objective detected: 'Our goal is to improve the community through this funding.'\n",
            "Unclear objective detected: 'We will enhance the local environment by planting trees andincreasing renewable energy use.'\n",
            "Missing section: 'goals' is not mentioned in the proposal.\n",
            "Missing section: 'objectives' is not mentioned in the proposal.\n",
            "Missing section: 'impact' is not mentioned in the proposal.\n"
          ]
        }
      ]
    },
    {
      "cell_type": "code",
      "source": [],
      "metadata": {
        "id": "bt6rIh_RJMeS"
      },
      "execution_count": null,
      "outputs": []
    }
  ]
}